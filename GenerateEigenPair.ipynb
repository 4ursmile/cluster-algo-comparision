{
 "cells": [
  {
   "cell_type": "code",
   "execution_count": 2,
   "metadata": {},
   "outputs": [],
   "source": [
    "from scipy import sparse\n",
    "from scipy import linalg\n",
    "import numpy as np\n",
    "import pandas as pd"
   ]
  },
  {
   "cell_type": "code",
   "execution_count": 8,
   "metadata": {},
   "outputs": [
    {
     "name": "stdout",
     "output_type": "stream",
     "text": [
      "[[0.  0.8 0.6 0.1 0.  0. ]\n",
      " [0.8 0.  0.9 0.  0.  0. ]\n",
      " [0.6 0.9 0.  0.  0.  0.2]\n",
      " [0.1 0.  0.  0.  0.6 0.7]\n",
      " [0.  0.  0.  0.6 0.  0.8]\n",
      " [0.  0.  0.2 0.7 0.8 0. ]]\n",
      "[[ 1.5 -0.8 -0.6 -0.1 -0.  -0. ]\n",
      " [-0.8  1.7 -0.9 -0.  -0.  -0. ]\n",
      " [-0.6 -0.9  1.7 -0.  -0.  -0.2]\n",
      " [-0.1 -0.  -0.   1.4 -0.6 -0.7]\n",
      " [-0.  -0.  -0.  -0.6  1.4 -0.8]\n",
      " [-0.  -0.  -0.2 -0.7 -0.8  1.7]]\n"
     ]
    }
   ],
   "source": [
    "arr = [ [0.0, 0.8, 0.6, 0.1, 0.0, 0.0], \n",
    "        [0.8, 0.0, 0.9, 0.0, 0.0, 0.0], \n",
    "        [0.6, 0.9, 0.0, 0.0, 0.0, 0.2], \n",
    "        [0.1, 0.0, 0.0, 0.0, 0.6, 0.7], \n",
    "        [0.0, 0.0, 0.0, 0.6, 0.0, 0.8], \n",
    "        [0.0, 0.0, 0.2, 0.7, 0.8, 0.0]]\n",
    "arr = np.array(arr)\n",
    "print(arr)\n",
    "LaplacianMatrix = sparse.csgraph.laplacian(csgraph=arr, normed=False)\n",
    "print(LaplacianMatrix)"
   ]
  },
  {
   "cell_type": "code",
   "execution_count": 9,
   "metadata": {},
   "outputs": [
    {
     "name": "stdout",
     "output_type": "stream",
     "text": [
      "           0      1      2      3      4      5\n",
      "0.000  0.408  0.408 -0.291 -0.643 -0.149  0.383\n",
      "0.189  0.408  0.439  0.085  0.110  0.686 -0.388\n",
      "1.963  0.408  0.374  0.233  0.517 -0.609 -0.026\n",
      "2.147  0.408 -0.403 -0.737  0.182 -0.090 -0.295\n",
      "2.673  0.408 -0.446  0.527 -0.444 -0.160 -0.367\n",
      "2.429  0.408 -0.373  0.182  0.278  0.321  0.693\n"
     ]
    }
   ],
   "source": [
    "eigenvalue, eigenvector = linalg.eig(LaplacianMatrix)\n",
    "eigenvalue = np.real(eigenvalue)\n",
    "df = pd.DataFrame(data = eigenvector, index = eigenvalue)\n",
    "df = df.round(3)\n",
    "df.index = df.index.to_series().round(3)\n",
    "print(df)"
   ]
  }
 ],
 "metadata": {
  "kernelspec": {
   "display_name": "Python 3",
   "language": "python",
   "name": "python3"
  },
  "language_info": {
   "codemirror_mode": {
    "name": "ipython",
    "version": 3
   },
   "file_extension": ".py",
   "mimetype": "text/x-python",
   "name": "python",
   "nbconvert_exporter": "python",
   "pygments_lexer": "ipython3",
   "version": "3.10.9 (tags/v3.10.9:1dd9be6, Dec  6 2022, 20:01:21) [MSC v.1934 64 bit (AMD64)]"
  },
  "orig_nbformat": 4,
  "vscode": {
   "interpreter": {
    "hash": "72a7f093bdaec1fd4828a73681f20d02bdf6ea3ec98e39b596ecf2769ac9ebc8"
   }
  }
 },
 "nbformat": 4,
 "nbformat_minor": 2
}
